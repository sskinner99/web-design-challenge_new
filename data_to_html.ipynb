{
 "cells": [
  {
   "cell_type": "code",
   "execution_count": 1,
   "metadata": {},
   "outputs": [],
   "source": [
    "# Dependencies and Setup\n",
    "import pandas as pd\n",
    "import os\n",
    "import datetime as dt"
   ]
  },
  {
   "source": [],
   "cell_type": "markdown",
   "metadata": {}
  },
  {
   "cell_type": "code",
   "execution_count": 10,
   "metadata": {},
   "outputs": [],
   "source": [
    "# Read in csv file and convert to dataframe\n",
    "\n",
    "data = pd.read_csv(\"./Resources/cities.csv\")"
   ]
  },
  {
   "cell_type": "code",
   "execution_count": 11,
   "metadata": {},
   "outputs": [
    {
     "output_type": "execute_result",
     "data": {
      "text/plain": [
       "'.\\\\Resources\\\\cities.csv'"
      ]
     },
     "metadata": {},
     "execution_count": 11
    }
   ],
   "source": [
    "# Define path to csv file\n",
    "\n",
    "del data['City_ID']\n",
    "data.head()\n",
    "data['Date'] = pd.to_datetime(data['Date'], unit='s')\\\n",
    "               .dt.strftime('%Y-%m-%d')\n",
    "\n",
    "'.\\Resources\\\\cities.csv'"
   ]
  },
  {
   "cell_type": "code",
   "execution_count": 14,
   "metadata": {},
   "outputs": [
    {
     "output_type": "execute_result",
     "data": {
      "text/plain": [
       "           City  Cloudiness Country        Date  Humidity    Lat     Lng  \\\n",
       "0  jacareacanga           0      BR  2018-06-13        62  -6.22  -57.76   \n",
       "1    kaitangata         100      NZ  2018-06-13        94 -46.28  169.85   \n",
       "2      goulburn          20      AU  2018-06-13        91 -34.75  149.72   \n",
       "3          lata          76      IN  2018-06-13        89  30.78   78.62   \n",
       "4    chokurdakh           0      RU  2018-06-13        88  70.62  147.90   \n",
       "\n",
       "   Max Temp  Wind Speed  \n",
       "0     89.60        6.93  \n",
       "1     42.61        5.64  \n",
       "2     44.32       10.11  \n",
       "3     59.89        0.94  \n",
       "4     32.17        2.95  "
      ],
      "text/html": "<div>\n<style scoped>\n    .dataframe tbody tr th:only-of-type {\n        vertical-align: middle;\n    }\n\n    .dataframe tbody tr th {\n        vertical-align: top;\n    }\n\n    .dataframe thead th {\n        text-align: right;\n    }\n</style>\n<table border=\"1\" class=\"dataframe\">\n  <thead>\n    <tr style=\"text-align: right;\">\n      <th></th>\n      <th>City</th>\n      <th>Cloudiness</th>\n      <th>Country</th>\n      <th>Date</th>\n      <th>Humidity</th>\n      <th>Lat</th>\n      <th>Lng</th>\n      <th>Max Temp</th>\n      <th>Wind Speed</th>\n    </tr>\n  </thead>\n  <tbody>\n    <tr>\n      <th>0</th>\n      <td>jacareacanga</td>\n      <td>0</td>\n      <td>BR</td>\n      <td>2018-06-13</td>\n      <td>62</td>\n      <td>-6.22</td>\n      <td>-57.76</td>\n      <td>89.60</td>\n      <td>6.93</td>\n    </tr>\n    <tr>\n      <th>1</th>\n      <td>kaitangata</td>\n      <td>100</td>\n      <td>NZ</td>\n      <td>2018-06-13</td>\n      <td>94</td>\n      <td>-46.28</td>\n      <td>169.85</td>\n      <td>42.61</td>\n      <td>5.64</td>\n    </tr>\n    <tr>\n      <th>2</th>\n      <td>goulburn</td>\n      <td>20</td>\n      <td>AU</td>\n      <td>2018-06-13</td>\n      <td>91</td>\n      <td>-34.75</td>\n      <td>149.72</td>\n      <td>44.32</td>\n      <td>10.11</td>\n    </tr>\n    <tr>\n      <th>3</th>\n      <td>lata</td>\n      <td>76</td>\n      <td>IN</td>\n      <td>2018-06-13</td>\n      <td>89</td>\n      <td>30.78</td>\n      <td>78.62</td>\n      <td>59.89</td>\n      <td>0.94</td>\n    </tr>\n    <tr>\n      <th>4</th>\n      <td>chokurdakh</td>\n      <td>0</td>\n      <td>RU</td>\n      <td>2018-06-13</td>\n      <td>88</td>\n      <td>70.62</td>\n      <td>147.90</td>\n      <td>32.17</td>\n      <td>2.95</td>\n    </tr>\n  </tbody>\n</table>\n</div>"
     },
     "metadata": {},
     "execution_count": 14
    }
   ],
   "source": [
    "data.head()"
   ]
  },
  {
   "cell_type": "code",
   "execution_count": 13,
   "metadata": {},
   "outputs": [],
   "source": [
    "# output data fram to html format\n",
    "\n",
    "data_html = data.to_html('data.html')\n",
    "data_html"
   ]
  },
  {
   "cell_type": "code",
   "execution_count": null,
   "metadata": {},
   "outputs": [],
   "source": []
  },
  {
   "cell_type": "code",
   "execution_count": null,
   "metadata": {},
   "outputs": [],
   "source": []
  }
 ],
 "metadata": {
  "kernelspec": {
   "name": "python3",
   "display_name": "Python 3.8.3 64-bit (conda)",
   "metadata": {
    "interpreter": {
     "hash": "72c32119dd8243ca5cc9975dcf5382b15e277c7b3de263966b6001c437f8c8dd"
    }
   }
  },
  "language_info": {
   "codemirror_mode": {
    "name": "ipython",
    "version": 3
   },
   "file_extension": ".py",
   "mimetype": "text/x-python",
   "name": "python",
   "nbconvert_exporter": "python",
   "pygments_lexer": "ipython3",
   "version": "3.8.3-final"
  }
 },
 "nbformat": 4,
 "nbformat_minor": 4
}