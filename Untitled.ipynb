{
 "cells": [
  {
   "cell_type": "code",
   "execution_count": null,
   "metadata": {},
   "outputs": [],
   "source": [
    "# Dependencies and Setup\n",
    "import pandas as pd\n",
    "import os\n",
    " "
   ]
  },
  {
   "cell_type": "code",
   "execution_count": null,
   "metadata": {},
   "outputs": [],
   "source": [
    "# Define path to csv file\n",
    "\n",
    "cities_file=os.path.join('.','resources','cities.csv')\n",
    "cities_file\n",
    "Out[2]:\n",
    "'.\\\\resources\\\\cities.csv'"
   ]
  },
  {
   "cell_type": "code",
   "execution_count": null,
   "metadata": {},
   "outputs": [],
   "source": [
    "# Read in csv file and convert to dataframe\n",
    "\n",
    "file_cities=pd.read_csv(cities_file)\n",
    "\n",
    "cities_df=pd.DataFrame(file_cities)\n",
    "\n",
    "cities_df=cities_df[[\"City_ID\", \"City\", \"Country\", \"Latitude\", \"Max Temperature\", \"Cloudiness\", \"Wind Speed\", \"Humidity\"]]\n",
    "\n",
    "cities_df.head()"
   ]
  },
  {
   "cell_type": "code",
   "execution_count": null,
   "metadata": {},
   "outputs": [],
   "source": [
    "# output data fram to html format\n",
    "\n",
    "cities_df.to_html('./resources/cities.html', index=False)"
   ]
  }
 ],
 "metadata": {
  "kernelspec": {
   "display_name": "Python [conda env:PythonData] *",
   "language": "python",
   "name": "conda-env-PythonData-py"
  },
  "language_info": {
   "codemirror_mode": {
    "name": "ipython",
    "version": 3
   },
   "file_extension": ".py",
   "mimetype": "text/x-python",
   "name": "python",
   "nbconvert_exporter": "python",
   "pygments_lexer": "ipython3",
   "version": "3.6.10"
  }
 },
 "nbformat": 4,
 "nbformat_minor": 4
}
